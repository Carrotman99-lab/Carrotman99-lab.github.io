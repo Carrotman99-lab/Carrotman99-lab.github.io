{
 "cells": [
  {
   "cell_type": "code",
   "execution_count": 1,
   "metadata": {
    "collapsed": true
   },
   "outputs": [
    {
     "data": {
      "text/plain": [
       "'[문제 3] 1 과 자신만을 약수(나누어 떨어지는 수)로 가지는 수를 소수(prime number)라 한다. 예를 들어, 5 는\\n소수이다. 8 은 소수가 아니며 [1,2,4,8]을 약수로 가진다. 소수인지 아닌지 판별하는 isPrime() 함수를 구현\\n하시오.\\nl 이 함수의 입력 파라미터는 num(정수)과 L(리스트)이다. 입력 파라미터 num은 1을 초과하는 정수라고 가정\\n하고, L은 empty list라고 가정한다. 이를 확인하는 절차는 불필요하다.\\nl 이 함수는 num이 소수이면 True, 아니면 False를 반환한다 (Boolean type을 반환).\\nl 만약, num이 소수가 아니면, num의 약수의 리스트를 L에 지정하고 출력(print)한다. 이 리스트는 1과 num을\\n포함한다. num이 소수일 때 L의 값은 어떤 값 이어도 상관없으며 출력하지 않는다.'"
      ]
     },
     "execution_count": 1,
     "metadata": {},
     "output_type": "execute_result"
    }
   ],
   "source": [
    "\"\"\"[문제 3] 1 과 자신만을 약수(나누어 떨어지는 수)로 가지는 수를 소수(prime number)라 한다. 예를 들어, 5 는\n",
    "소수이다. 8 은 소수가 아니며 [1,2,4,8]을 약수로 가진다. 소수인지 아닌지 판별하는 isPrime() 함수를 구현\n",
    "하시오.\n",
    "l 이 함수의 입력 파라미터는 num(정수)과 L(리스트)이다. 입력 파라미터 num은 1을 초과하는 정수라고 가정\n",
    "하고, L은 empty list라고 가정한다. 이를 확인하는 절차는 불필요하다.\n",
    "l 이 함수는 num이 소수이면 True, 아니면 False를 반환한다 (Boolean type을 반환).\n",
    "l 만약, num이 소수가 아니면, num의 약수의 리스트를 L에 지정하고 출력(print)한다. 이 리스트는 1과 num을\n",
    "포함한다. num이 소수일 때 L의 값은 어떤 값 이어도 상관없으며 출력하지 않는다.\"\"\""
   ]
  },
  {
   "cell_type": "code",
   "execution_count": 46,
   "metadata": {},
   "outputs": [
    {
     "name": "stdout",
     "output_type": "stream",
     "text": [
      "[1, 2, 3, 4, 6, 12]\n",
      "False\n"
     ]
    }
   ],
   "source": [
    "\n",
    "def inPrime(num):\n",
    "    count = 0\n",
    "    L=[]\n",
    "    for i in list(range(1,num+1)):\n",
    "        if num%i == 0:\n",
    "            count += 1\n",
    "            \n",
    "    if count == 2:\n",
    "        return True\n",
    "    else:\n",
    "        for j in list(range(1,num+1)):\n",
    "            if num%j==0:\n",
    "                L.append(j)\n",
    "        print(L)\n",
    "        \n",
    "        return False\n",
    "            \n",
    "a = inPrime(12)\n",
    "print(a)\n"
   ]
  },
  {
   "cell_type": "code",
   "execution_count": null,
   "metadata": {},
   "outputs": [],
   "source": [
    "list"
   ]
  }
 ],
 "metadata": {
  "kernelspec": {
   "display_name": "Python 3",
   "language": "python",
   "name": "python3"
  },
  "language_info": {
   "codemirror_mode": {
    "name": "ipython",
    "version": 3
   },
   "file_extension": ".py",
   "mimetype": "text/x-python",
   "name": "python",
   "nbconvert_exporter": "python",
   "pygments_lexer": "ipython3",
   "version": "3.8.5"
  }
 },
 "nbformat": 4,
 "nbformat_minor": 4
}
