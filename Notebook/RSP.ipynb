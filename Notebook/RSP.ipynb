{
 "cells": [
  {
   "cell_type": "code",
   "execution_count": 265,
   "metadata": {},
   "outputs": [
    {
     "data": {
      "text/plain": [
       "'Computer'"
      ]
     },
     "execution_count": 265,
     "metadata": {},
     "output_type": "execute_result"
    }
   ],
   "source": [
    "import random\n",
    "\n",
    "caseTypes = ['rock','scissor','paper']\n",
    "\n",
    "def GenerateRandomCaseForComputer():\n",
    "    x = random.randrange(0,3)\n",
    "    \n",
    "    return caseTypes[x]\n",
    "\n",
    "def MakeDecision(x,y):\n",
    "    \n",
    "    if x == 'rock':\n",
    "        if y == 'rock':\n",
    "            return 'Tie'\n",
    "        elif y == 'scissor':\n",
    "            return 'User'\n",
    "        else:\n",
    "            return 'Computer'\n",
    "        \n",
    "    elif x == 'scissor':\n",
    "        if y == 'rock':\n",
    "            return 'Computer'\n",
    "        elif y == 'scissor':\n",
    "            return 'Tie'\n",
    "        else:\n",
    "            return 'User'\n",
    "        \n",
    "    elif x == 'paper':\n",
    "        if y == 'rock':\n",
    "            return 'User'\n",
    "        elif y == 'scissor':\n",
    "            return 'Computer'\n",
    "        else:\n",
    "            return 'Tie'\n",
    "        \n",
    "    else:\n",
    "        return -1\n",
    "\n",
    "    \n",
    "    \n",
    "MakeDecision('scissor',GenerateRandomCaseForComputer())\n",
    "\n",
    "\n",
    "\n",
    "    \n",
    "   "
   ]
  },
  {
   "cell_type": "raw",
   "metadata": {},
   "source": []
  }
 ],
 "metadata": {
  "kernelspec": {
   "display_name": "Python 3",
   "language": "python",
   "name": "python3"
  },
  "language_info": {
   "codemirror_mode": {
    "name": "ipython",
    "version": 3
   },
   "file_extension": ".py",
   "mimetype": "text/x-python",
   "name": "python",
   "nbconvert_exporter": "python",
   "pygments_lexer": "ipython3",
   "version": "3.8.5"
  }
 },
 "nbformat": 4,
 "nbformat_minor": 4
}
