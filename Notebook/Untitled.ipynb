{
 "cells": [
  {
   "cell_type": "code",
   "execution_count": null,
   "metadata": {},
   "outputs": [],
   "source": [
    "# 중간고사 참고 함수 및 메소드"
   ]
  },
  {
   "cell_type": "code",
   "execution_count": 49,
   "metadata": {},
   "outputs": [
    {
     "data": {
      "text/plain": [
       "'Hello plz python ~ good point plz man '"
      ]
     },
     "execution_count": 49,
     "metadata": {},
     "output_type": "execute_result"
    }
   ],
   "source": [
    "import random # random 모듈 불러오기\n",
    "\n",
    "a = random.randrange(0,10) # 0~9 사이의 랜덤값을 반환함.\n",
    "\n",
    "b = random.randrange(0,11,2) # 0~10 사이의 랜덤값 0,2,4,6,8,10 을 반환함.\n",
    "\n",
    "\n",
    "\"\"\" str 메소드 \"\"\"\n",
    "\n",
    "c = 'hello' \n",
    "\n",
    "c = c.capitalize() # 해당 문자열 첫 글자만 대문자로 바꿈\n",
    "\n",
    "d = c.upper() # 해당 문자열 모두 대문자로 바꿈\n",
    "\n",
    "e = c.count('l') # 해당 문자열에 'l'의 갯수를 셈\n",
    "\n",
    "f = c.find('o') # 해당 문자열에서 o 를 찾아서 인덱스 값을 반환함. 이거는 4를 반환함.\n",
    "\n",
    "g = c.find('e',2) # 해당 문자열을 인덱스 2번 부터 찾음. 못찾으면 -1을 반환함.\n",
    "\n",
    "h = c.find('o',1,4) # 해당 문자열을 인덱스 1부터 3 까지 범위로 찾음\n",
    "\n",
    "i = c.islower() # True m False 값을 반환함. 소문자 체크 c.isupper  도 있음 \n",
    "\n",
    "j = c.strip() # 공백을 모두 지워줌 , c.rstrip 도 있음\n",
    "\n",
    "word = '{0} plz python {1} good point plz man '\n",
    "\n",
    "word.format(c,'~') # 중괄호 번호에 따라서 문자열을 삽입해줌\n",
    "\n",
    "\n",
    "\"\"\" list 함수 및 메소드\"\"\"\n",
    "\n",
    "L = [1,2,6,3,8]\n",
    "\n",
    "A1 = len(L) # 리스트의 길이를 반환함\n",
    "\n",
    "A2 = max(L) # 리스트 값 중 최고 값을 반환 min(L) 도 있음 sum(L) 은 안에 값 모두 더함 sorted(L) 은 안에 값 오름차순 정렬 sorted(L,reverse = true)\n",
    "\n",
    "# 나머지는 강의노트 pdf 참조"
   ]
  },
  {
   "cell_type": "code",
   "execution_count": 2,
   "metadata": {},
   "outputs": [
    {
     "data": {
      "text/plain": [
       "[]"
      ]
     },
     "execution_count": 2,
     "metadata": {},
     "output_type": "execute_result"
    }
   ],
   "source": [
    "def reverseString(iString):\n",
    "    # START\n",
    "    L = [iString]\n",
    "    result = L[:-1]\n",
    "    # END\n",
    "    return result\n",
    "\n",
    "a = reverseString('hello')\n",
    "\n",
    "a"
   ]
  }
 ],
 "metadata": {
  "kernelspec": {
   "display_name": "Python 3",
   "language": "python",
   "name": "python3"
  },
  "language_info": {
   "codemirror_mode": {
    "name": "ipython",
    "version": 3
   },
   "file_extension": ".py",
   "mimetype": "text/x-python",
   "name": "python",
   "nbconvert_exporter": "python",
   "pygments_lexer": "ipython3",
   "version": "3.8.5"
  }
 },
 "nbformat": 4,
 "nbformat_minor": 4
}
