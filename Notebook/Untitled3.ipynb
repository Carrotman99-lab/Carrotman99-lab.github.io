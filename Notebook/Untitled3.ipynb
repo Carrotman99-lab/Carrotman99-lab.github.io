{
 "cells": [
  {
   "cell_type": "code",
   "execution_count": 1,
   "metadata": {},
   "outputs": [
    {
     "name": "stdout",
     "output_type": "stream",
     "text": [
      "****-\n",
      "*****--***\n",
      "----*----*----*\n",
      "Invalid range\n",
      "Invalid range\n"
     ]
    }
   ],
   "source": [
    "def num_to_morse(num):\n",
    "    morse_list = [\n",
    "        '-----',\n",
    "        '*----',\n",
    "        '**---',\n",
    "        '***--',\n",
    "        '****-',\n",
    "        '*****',\n",
    "        '-****',\n",
    "        '--***',\n",
    "        '---**',\n",
    "        '----*',\n",
    "    ]\n",
    "    return morse_list[num]\n",
    "\n",
    "\n",
    "def num_to_morse_2(num):\n",
    "    if num < 0 or num > 999:\n",
    "        return 'Invalid range'\n",
    "    morse = []\n",
    "    while num > 0:\n",
    "        morse.append(num_to_morse(num % 10))\n",
    "        num = num // 10\n",
    "    return ''.join(morse[::-1])\n",
    "\n",
    "\n",
    "print(num_to_morse(4))\n",
    "print(num_to_morse_2(57))\n",
    "print(num_to_morse_2(999))\n",
    "print(num_to_morse_2(1234))\n",
    "print(num_to_morse_2(-3))\n"
   ]
  },
  {
   "cell_type": "code",
   "execution_count": null,
   "metadata": {},
   "outputs": [],
   "source": [
    "def morse_to_num(morse):\n",
    "    num_list= list[range(0,11]\n",
    "    return num_list\n",
    "    "
   ]
  }
 ],
 "metadata": {
  "kernelspec": {
   "display_name": "Python 3",
   "language": "python",
   "name": "python3"
  },
  "language_info": {
   "codemirror_mode": {
    "name": "ipython",
    "version": 3
   },
   "file_extension": ".py",
   "mimetype": "text/x-python",
   "name": "python",
   "nbconvert_exporter": "python",
   "pygments_lexer": "ipython3",
   "version": "3.8.5"
  }
 },
 "nbformat": 4,
 "nbformat_minor": 4
}
