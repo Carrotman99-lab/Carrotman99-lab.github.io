{
 "cells": [
  {
   "cell_type": "code",
   "execution_count": 4,
   "metadata": {},
   "outputs": [
    {
     "name": "stdout",
     "output_type": "stream",
     "text": [
      "4\n",
      "57\n",
      "999\n",
      "1236\n",
      "99880\n",
      "99880001\n"
     ]
    }
   ],
   "source": [
    "def morse_to_num(morse):  #[4점]\n",
    "    \n",
    "    count = len(morse) // 5\n",
    "    \n",
    "    morse_list=['-----','*----','**---','***--','****-','*****','-****','--***','---**','----*']\n",
    "    \n",
    "    input_list = []\n",
    "    \n",
    "    i = 0\n",
    "    k = 1\n",
    "    x = ''\n",
    "    \n",
    "    while count >= 1:     # 입력받은 모스부호를 5개씩 나눠서 리스트에 넣는다. ex) '---**----*' 가 입력이면 List = ['---**','----*']\n",
    "        \n",
    "        \n",
    "        \n",
    "        input_list.append(morse[i:5*k])\n",
    "        \n",
    "        i = i + 5\n",
    "        k = k + 1 \n",
    "        \n",
    "        count = count - 1\n",
    "    \n",
    "    for i in input_list:    # 위에서 넣은 List 를 morse_list 에서 '인덱스 번호'를 찾는다\n",
    "        \n",
    "        x = x + str(morse_list.index(i))\n",
    "        \n",
    "    \n",
    "    return int(x)\n",
    "\n",
    "\n",
    "\n",
    "    # (str) -> int\n",
    "    # Implement the function here. Do not change the function header\n",
    "    \n",
    "    \n",
    "print(morse_to_num('****-'))\n",
    "print(morse_to_num('*****--***'))\n",
    "print(morse_to_num('----*----*----*'))\n",
    "print(morse_to_num('*----**---***---****'))\n",
    "print(morse_to_num('----*----*---**---**-----'))\n",
    "print(morse_to_num('----*----*---**---**---------------*----'))"
   ]
  },
  {
   "cell_type": "code",
   "execution_count": 2,
   "metadata": {},
   "outputs": [
    {
     "ename": "SyntaxError",
     "evalue": "invalid syntax (<ipython-input-2-c6afe103684e>, line 5)",
     "output_type": "error",
     "traceback": [
      "\u001b[1;36m  File \u001b[1;32m\"<ipython-input-2-c6afe103684e>\"\u001b[1;36m, line \u001b[1;32m5\u001b[0m\n\u001b[1;33m    input_list.append(morse[i:5k])\u001b[0m\n\u001b[1;37m                               ^\u001b[0m\n\u001b[1;31mSyntaxError\u001b[0m\u001b[1;31m:\u001b[0m invalid syntax\n"
     ]
    }
   ],
   "source": []
  }
 ],
 "metadata": {
  "kernelspec": {
   "display_name": "Python 3",
   "language": "python",
   "name": "python3"
  },
  "language_info": {
   "codemirror_mode": {
    "name": "ipython",
    "version": 3
   },
   "file_extension": ".py",
   "mimetype": "text/x-python",
   "name": "python",
   "nbconvert_exporter": "python",
   "pygments_lexer": "ipython3",
   "version": "3.8.5"
  }
 },
 "nbformat": 4,
 "nbformat_minor": 4
}
