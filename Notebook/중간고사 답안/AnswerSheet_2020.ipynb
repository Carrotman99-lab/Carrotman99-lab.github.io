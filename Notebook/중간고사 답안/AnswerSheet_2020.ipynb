{
 "cells": [
  {
   "cell_type": "markdown",
   "metadata": {},
   "source": [
    "# SWCON104 Web/Python Programming 2020-1 Midterm Assignment\n"
   ]
  },
  {
   "cell_type": "markdown",
   "metadata": {},
   "source": [
    "- File Name: StudentID_YourName.ipynb (Ex: 1234567890_홍길동.ipynb) <Br>\n",
    "- Submission Due: 2020/05/04 23:50 <br>"
   ]
  },
  {
   "cell_type": "markdown",
   "metadata": {},
   "source": [
    "Answer for Question.1"
   ]
  },
  {
   "cell_type": "code",
   "execution_count": null,
   "metadata": {},
   "outputs": [],
   "source": [
    "# Start of Answer\n",
    "\n",
    "# End of Answer\n",
    "\n",
    "# Below is Execution Example, and can be removed.\n",
    "\n",
    "print(CalcFactorial(5))"
   ]
  },
  {
   "cell_type": "code",
   "execution_count": null,
   "metadata": {},
   "outputs": [],
   "source": []
  },
  {
   "cell_type": "markdown",
   "metadata": {},
   "source": [
    "Answer for Question.2"
   ]
  },
  {
   "cell_type": "code",
   "execution_count": null,
   "metadata": {},
   "outputs": [],
   "source": [
    "import random\n",
    "\n",
    "caseTypes = ['scissor', 'rock', 'paper']\n",
    "\n",
    "def GenerateRandomCaseForComputer():\n",
    "    x = random.randrange(0,3)\n",
    "    \n",
    "    return caseTypes[x]\n",
    "\n",
    "def MakeDecision(x,y):\n",
    "    \n",
    "    if x == 'rock':\n",
    "        if y == 'rock':\n",
    "            return 'Tie'\n",
    "        elif y == 'scissor':\n",
    "            return 'User'\n",
    "        else:\n",
    "            return 'Computer'\n",
    "        \n",
    "    elif x == 'scissor':\n",
    "        if y == 'rock':\n",
    "            return 'Computer'\n",
    "        elif y == 'scissor':\n",
    "            return 'Tie'\n",
    "        else:\n",
    "            return 'User'\n",
    "        \n",
    "    elif x == 'paper':\n",
    "        if y == 'rock':\n",
    "            return 'User'\n",
    "        elif y == 'scissor':\n",
    "            return 'Computer'\n",
    "        else:\n",
    "            return 'Tie'\n",
    "        \n",
    "    else:\n",
    "        return -1\n",
    "\n",
    "\n",
    "# Start of Answer\n",
    "\n",
    "# End of Answer\n",
    "\n",
    "# Below is Execution Example, and can be removed.\n",
    "\n",
    "userInput = 0\n",
    "while True:\n",
    "    userInput = int(input(\"\\nMenu: \\n[0] scissor, \\n[1] rock, \\n[2] paper, \\n[3] quit \\n\\nSelect: \"))\n",
    "    if(userInput != 3):\n",
    "        valueUser = caseTypes[userInput]\n",
    "        valueComputer = GenerateRandomCaseForComputer()\n",
    "        valueDecision = MakeDecision(valueUser, valueComputer)\n",
    "        print(\"\\nResult: User [{0}] vs Computer [{1}] -> Winner is {2}\".format(valueUser, valueComputer, valueDecision))\n",
    "    else:\n",
    "        break"
   ]
  },
  {
   "cell_type": "markdown",
   "metadata": {},
   "source": [
    "Answer for Question.3"
   ]
  },
  {
   "cell_type": "code",
   "execution_count": 8,
   "metadata": {},
   "outputs": [],
   "source": [
    "def isPrime(num, L):\n",
    "    \n",
    "    count = 0\n",
    "    L=[]\n",
    "    for i in list(range(1,num+1)):\n",
    "        if num%i == 0:\n",
    "            count += 1\n",
    "            \n",
    "    if count == 2:\n",
    "        return True\n",
    "    else:\n",
    "        for j in list(range(1,num+1)):\n",
    "            if num%j==0:\n",
    "                L.append(j)\n",
    "        print(L)\n",
    "        \n",
    "        return False\n",
    "    \n",
    "    #Implement the function here\n",
    "    # If syntax error occurs, no point will be given for this function\n",
    "    # Do not change the function header"
   ]
  },
  {
   "cell_type": "code",
   "execution_count": 14,
   "metadata": {},
   "outputs": [
    {
     "name": "stdout",
     "output_type": "stream",
     "text": [
      "[1, 2, 3, 4, 6, 8, 12, 23, 24, 46, 69, 92, 138, 184, 276, 311, 529, 552, 622, 933, 1058, 1244, 1587, 1866, 2116, 2488, 3174, 3732, 4232, 6348, 7153, 7464, 12696, 14306, 21459, 28612, 42918, 57224, 85836, 164519, 171672, 329038, 493557, 658076, 987114, 1316152, 1974228, 3948456]\n",
      "False\n"
     ]
    }
   ],
   "source": [
    "ans = isPrime(3948456,[])  # This cell is for your confirmation, can be removed.\n",
    "print(ans)           # If correctly implemented, [1,2,4,8] is printed first, and False is printed at the next line."
   ]
  },
  {
   "cell_type": "markdown",
   "metadata": {},
   "source": [
    "Answer for Question.4"
   ]
  },
  {
   "cell_type": "code",
   "execution_count": null,
   "metadata": {},
   "outputs": [],
   "source": [
    "def getResult(status):\n",
    "    # Implement the function here.\n",
    "    if status.count('_') == 0:\n",
    "        return 'you win'\n",
    "    else:\n",
    "        return 'you lose'\n",
    "        \n",
    "        \n",
    "        print('you loose')\n",
    "    # If syntax error occurs, no point will be given for this function\n",
    "    # Do not change the function header"
   ]
  },
  {
   "cell_type": "code",
   "execution_count": null,
   "metadata": {},
   "outputs": [],
   "source": [
    "def updateStatus(word, x, status):\n",
    "    # Implement the function here.\n",
    "    # If syntax error occurs, no point will be given for this function\n",
    "    # Do not change the function header\n",
    "    # Hint: use str.count() and str.find(). Not mendatory."
   ]
  },
  {
   "cell_type": "code",
   "execution_count": null,
   "metadata": {},
   "outputs": [],
   "source": [
    "def startGame(word):\n",
    "    \n",
    "    # Implement the function here.\n",
    "    # If syntax error occurs, no point will be given for this function\n",
    "    # Do not change the function header\n",
    "    # Hint: use input() inside while-loop."
   ]
  },
  {
   "cell_type": "code",
   "execution_count": null,
   "metadata": {},
   "outputs": [],
   "source": [
    "word = 'HIPPOPOTAMUS'    # This cell is for your confirmation, can be removed.\n",
    "result = startGame(word) # If correctly implemented, the result should be \n",
    "print(result)            # as the program execution example figure in your question sheet."
   ]
  }
 ],
 "metadata": {
  "kernelspec": {
   "display_name": "Python 3",
   "language": "python",
   "name": "python3"
  },
  "language_info": {
   "codemirror_mode": {
    "name": "ipython",
    "version": 3
   },
   "file_extension": ".py",
   "mimetype": "text/x-python",
   "name": "python",
   "nbconvert_exporter": "python",
   "pygments_lexer": "ipython3",
   "version": "3.8.5"
  }
 },
 "nbformat": 4,
 "nbformat_minor": 2
}
